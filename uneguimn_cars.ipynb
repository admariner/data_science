{
  "nbformat": 4,
  "nbformat_minor": 0,
  "metadata": {
    "colab": {
      "name": "uneguimn_cars.ipynb",
      "provenance": [],
      "collapsed_sections": [],
      "include_colab_link": true
    },
    "kernelspec": {
      "name": "python3",
      "display_name": "Python 3"
    }
  },
  "cells": [
    {
      "cell_type": "markdown",
      "metadata": {
        "id": "view-in-github",
        "colab_type": "text"
      },
      "source": [
        "<a href=\"https://colab.research.google.com/github/epuujee/data_science/blob/master/uneguimn_cars.ipynb\" target=\"_parent\"><img src=\"https://colab.research.google.com/assets/colab-badge.svg\" alt=\"Open In Colab\"/></a>"
      ]
    },
    {
      "cell_type": "markdown",
      "metadata": {
        "id": "AlL1NRvUqjU7",
        "colab_type": "text"
      },
      "source": [
        "Install Mongodb library"
      ]
    },
    {
      "cell_type": "code",
      "metadata": {
        "id": "lIi1yHeDk22q",
        "colab_type": "code",
        "outputId": "8d1dba35-d6ff-4f10-ee2c-87085f0ee134",
        "colab": {
          "base_uri": "https://localhost:8080/",
          "height": 35
        }
      },
      "source": [
        "!pip install pymongo"
      ],
      "execution_count": 0,
      "outputs": [
        {
          "output_type": "stream",
          "text": [
            "Requirement already satisfied: pymongo in /usr/local/lib/python3.6/dist-packages (3.10.1)\n"
          ],
          "name": "stdout"
        }
      ]
    },
    {
      "cell_type": "markdown",
      "metadata": {
        "id": "vNm16bs6qqHu",
        "colab_type": "text"
      },
      "source": [
        "Import libraries"
      ]
    },
    {
      "cell_type": "code",
      "metadata": {
        "id": "-D326yexk9Fp",
        "colab_type": "code",
        "colab": {}
      },
      "source": [
        "from pymongo import MongoClient\n",
        "import pandas as pd"
      ],
      "execution_count": 0,
      "outputs": []
    },
    {
      "cell_type": "markdown",
      "metadata": {
        "id": "ThGNR1LJqvPm",
        "colab_type": "text"
      },
      "source": [
        "Database connection"
      ]
    },
    {
      "cell_type": "code",
      "metadata": {
        "id": "a4xpsoXolWhm",
        "colab_type": "code",
        "colab": {}
      },
      "source": [
        "uri = ${{ secrets.con_str }}\n",
        "client = MongoClient(uri)\n",
        "\n",
        "db = client.unegui\n",
        "cars = db.cars"
      ],
      "execution_count": 0,
      "outputs": []
    },
    {
      "cell_type": "markdown",
      "metadata": {
        "id": "yTpsufm4rdlY",
        "colab_type": "text"
      },
      "source": [
        "Pandas Dataframe"
      ]
    },
    {
      "cell_type": "code",
      "metadata": {
        "id": "SkQe_wEvlclN",
        "colab_type": "code",
        "colab": {}
      },
      "source": [
        "df = pd.DataFrame(list(db.cars.find()))"
      ],
      "execution_count": 0,
      "outputs": []
    },
    {
      "cell_type": "code",
      "metadata": {
        "id": "wlvGK1KklzfN",
        "colab_type": "code",
        "outputId": "9299b71e-1327-4f82-dbed-64eb528cdbfa",
        "colab": {
          "base_uri": "https://localhost:8080/",
          "height": 447
        }
      },
      "source": [
        "df.head()"
      ],
      "execution_count": 0,
      "outputs": [
        {
          "output_type": "execute_result",
          "data": {
            "text/html": [
              "<div>\n",
              "<style scoped>\n",
              "    .dataframe tbody tr th:only-of-type {\n",
              "        vertical-align: middle;\n",
              "    }\n",
              "\n",
              "    .dataframe tbody tr th {\n",
              "        vertical-align: top;\n",
              "    }\n",
              "\n",
              "    .dataframe thead th {\n",
              "        text-align: right;\n",
              "    }\n",
              "</style>\n",
              "<table border=\"1\" class=\"dataframe\">\n",
              "  <thead>\n",
              "    <tr style=\"text-align: right;\">\n",
              "      <th></th>\n",
              "      <th>_id</th>\n",
              "      <th>Үйлдвэрлэгч</th>\n",
              "      <th>Загвар</th>\n",
              "      <th>Дугаар</th>\n",
              "      <th>Огноо</th>\n",
              "      <th>Үнэ</th>\n",
              "      <th>Мотор багтаамж</th>\n",
              "      <th>Хурдны хайрцаг</th>\n",
              "      <th>Хүрд</th>\n",
              "      <th>Төрөл</th>\n",
              "      <th>Өнгө</th>\n",
              "      <th>Үйлдвэрлэсэн он</th>\n",
              "      <th>Орж ирсэн он</th>\n",
              "      <th>Хөдөлгүүр</th>\n",
              "      <th>Дотор өнгө</th>\n",
              "      <th>Лизинг</th>\n",
              "      <th>Хаяг байршил</th>\n",
              "      <th>Хөтлөгч</th>\n",
              "      <th>Явсан</th>\n",
              "      <th>Нөхцөл</th>\n",
              "      <th>Хаалга</th>\n",
              "    </tr>\n",
              "  </thead>\n",
              "  <tbody>\n",
              "    <tr>\n",
              "      <th>0</th>\n",
              "      <td>5eafcc33aa2c0eec49c2c266</td>\n",
              "      <td>Toyota</td>\n",
              "      <td>Camry</td>\n",
              "      <td>3967573</td>\n",
              "      <td>2020-05-04 16:02</td>\n",
              "      <td>7000000.00</td>\n",
              "      <td>2.4 л</td>\n",
              "      <td>Автомат</td>\n",
              "      <td>Буруу</td>\n",
              "      <td>Суудлын тэрэг</td>\n",
              "      <td>Хар</td>\n",
              "      <td>2006</td>\n",
              "      <td>2012</td>\n",
              "      <td>Бензин</td>\n",
              "      <td>Хар</td>\n",
              "      <td>Лизинггүй</td>\n",
              "      <td>Оффицер</td>\n",
              "      <td>Урдаа FWD</td>\n",
              "      <td>180000 км.</td>\n",
              "      <td>Дугаар авсан</td>\n",
              "      <td>4</td>\n",
              "    </tr>\n",
              "    <tr>\n",
              "      <th>1</th>\n",
              "      <td>5eafcc35aa2c0eec49c2c267</td>\n",
              "      <td>Toyota</td>\n",
              "      <td>Prius 20</td>\n",
              "      <td>3967713</td>\n",
              "      <td>2020-05-04 16:02</td>\n",
              "      <td>12800000.00</td>\n",
              "      <td>1.5 л</td>\n",
              "      <td>Автомат</td>\n",
              "      <td>Буруу</td>\n",
              "      <td>Суудлын тэрэг</td>\n",
              "      <td>Саарал</td>\n",
              "      <td>2005</td>\n",
              "      <td>2020</td>\n",
              "      <td>Бензин</td>\n",
              "      <td>Саарал</td>\n",
              "      <td>Лизинггүй</td>\n",
              "      <td>Баянгол дүүрэг Хөгжил хотхон</td>\n",
              "      <td>Урдаа FWD</td>\n",
              "      <td>9000 км.</td>\n",
              "      <td>Шинэ</td>\n",
              "      <td>5</td>\n",
              "    </tr>\n",
              "    <tr>\n",
              "      <th>2</th>\n",
              "      <td>5eafcc36aa2c0eec49c2c268</td>\n",
              "      <td>Toyota</td>\n",
              "      <td>Land Cruiser Prado</td>\n",
              "      <td>3956092</td>\n",
              "      <td>2020-05-04 16:01</td>\n",
              "      <td>39500000.00</td>\n",
              "      <td>3.4 л</td>\n",
              "      <td>Автомат</td>\n",
              "      <td>Буруу</td>\n",
              "      <td>Жийп</td>\n",
              "      <td>Цагаан</td>\n",
              "      <td>2004</td>\n",
              "      <td>2020</td>\n",
              "      <td>Бензин</td>\n",
              "      <td>Цагаан шар</td>\n",
              "      <td>Лизинггүй</td>\n",
              "      <td>ub</td>\n",
              "      <td>Бүх дугуй 4WD</td>\n",
              "      <td>170000 км.</td>\n",
              "      <td>Дугаар авсан</td>\n",
              "      <td>5</td>\n",
              "    </tr>\n",
              "    <tr>\n",
              "      <th>3</th>\n",
              "      <td>5eafcc37aa2c0eec49c2c269</td>\n",
              "      <td>Nissan</td>\n",
              "      <td>Fuga</td>\n",
              "      <td>3967449</td>\n",
              "      <td>2020-05-04 16:01</td>\n",
              "      <td>6000000.00</td>\n",
              "      <td>2.5 л</td>\n",
              "      <td>Автомат</td>\n",
              "      <td>Буруу</td>\n",
              "      <td>Суудлын тэрэг</td>\n",
              "      <td>Хар</td>\n",
              "      <td>2004</td>\n",
              "      <td>2011</td>\n",
              "      <td>Бензин</td>\n",
              "      <td>Хар</td>\n",
              "      <td>Лизинггүй</td>\n",
              "      <td>Ub bzd</td>\n",
              "      <td>Хойноо RWD</td>\n",
              "      <td>161000 км.</td>\n",
              "      <td>Дугаар авсан</td>\n",
              "      <td>5</td>\n",
              "    </tr>\n",
              "    <tr>\n",
              "      <th>4</th>\n",
              "      <td>5eafcc39aa2c0eec49c2c26a</td>\n",
              "      <td>Toyota</td>\n",
              "      <td>Prius 40, 41</td>\n",
              "      <td>3930123</td>\n",
              "      <td>2020-05-04 16:00</td>\n",
              "      <td>24800000.00</td>\n",
              "      <td>1.8 л</td>\n",
              "      <td>Автомат</td>\n",
              "      <td>Буруу</td>\n",
              "      <td>Гэр бүлийн</td>\n",
              "      <td>Бусад</td>\n",
              "      <td>2015</td>\n",
              "      <td>2020</td>\n",
              "      <td>Хайбрид</td>\n",
              "      <td>Саарал</td>\n",
              "      <td>Банкны лизингтэй</td>\n",
              "      <td>UB</td>\n",
              "      <td>Урдаа FWD</td>\n",
              "      <td>130000 км.</td>\n",
              "      <td>Дугаар аваагүй</td>\n",
              "      <td>5</td>\n",
              "    </tr>\n",
              "  </tbody>\n",
              "</table>\n",
              "</div>"
            ],
            "text/plain": [
              "                        _id Үйлдвэрлэгч  ...          Нөхцөл Хаалга\n",
              "0  5eafcc33aa2c0eec49c2c266      Toyota  ...    Дугаар авсан      4\n",
              "1  5eafcc35aa2c0eec49c2c267      Toyota  ...            Шинэ      5\n",
              "2  5eafcc36aa2c0eec49c2c268      Toyota  ...    Дугаар авсан      5\n",
              "3  5eafcc37aa2c0eec49c2c269      Nissan  ...    Дугаар авсан      5\n",
              "4  5eafcc39aa2c0eec49c2c26a      Toyota  ...  Дугаар аваагүй      5\n",
              "\n",
              "[5 rows x 21 columns]"
            ]
          },
          "metadata": {
            "tags": []
          },
          "execution_count": 13
        }
      ]
    },
    {
      "cell_type": "code",
      "metadata": {
        "id": "-NkVFTALlvt9",
        "colab_type": "code",
        "colab": {}
      },
      "source": [
        ""
      ],
      "execution_count": 0,
      "outputs": []
    }
  ]
}